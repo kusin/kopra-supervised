{
 "cells": [
  {
   "cell_type": "markdown",
   "metadata": {},
   "source": [
    "## Finding best model for coconut copra type using supervised learning algorithm"
   ]
  },
  {
   "cell_type": "code",
   "execution_count": 1,
   "metadata": {},
   "outputs": [],
   "source": [
    "# Lib untuk manipulasi data\n",
    "import numpy as np\n",
    "import pandas as pd\n",
    "\n",
    "# lib untuk analisa statistik\n",
    "import scipy.stats as sc\n",
    "import statsmodels.api as sm\n",
    "\n",
    "# lib untuk visualisasi data\n",
    "import seaborn as sns\n",
    "import matplotlib.pyplot as plt\n",
    "import plotly.express as px\n",
    "import plotly.graph_objects as go\n",
    "\n",
    "# lib untuk praproses dataset\n",
    "from sklearn.preprocessing import MinMaxScaler\n",
    "from sklearn.model_selection import train_test_split\n",
    "\n",
    "# lib untuk klasifikasi data\n",
    "from sklearn.tree import DecisionTreeClassifier\n",
    "from sklearn.neighbors import KNeighborsClassifier\n",
    "from sklearn.naive_bayes import GaussianNB, CategoricalNB\n",
    "from sklearn.linear_model import LogisticRegression\n",
    "from sklearn.svm import SVC, NuSVC, LinearSVC\n",
    "\n",
    "# library untuk evaluasi model\n",
    "from sklearn.metrics import accuracy_score, precision_score, recall_score, f1_score\n",
    "from sklearn.metrics import classification_report, confusion_matrix\n",
    "\n",
    "# lib disble warning\n",
    "import warnings\n",
    "warnings.filterwarnings('ignore')"
   ]
  },
  {
   "cell_type": "markdown",
   "metadata": {},
   "source": [
    "- config models"
   ]
  },
  {
   "cell_type": "code",
   "execution_count": 2,
   "metadata": {},
   "outputs": [],
   "source": [
    "# config models\n",
    "experiments = 7   # fill number 1 until 7\n",
    "splitting = 90  # fill number 90 or 80"
   ]
  },
  {
   "cell_type": "markdown",
   "metadata": {},
   "source": [
    "### 1. Data acquisition"
   ]
  },
  {
   "cell_type": "code",
   "execution_count": 3,
   "metadata": {},
   "outputs": [],
   "source": [
    "# load dataset\n",
    "dataset = pd.read_csv(\"dataset/ekstrasi-fitur-kopra-nonTelungkup_v2.csv\")"
   ]
  },
  {
   "cell_type": "code",
   "execution_count": 4,
   "metadata": {},
   "outputs": [
    {
     "name": "stdout",
     "output_type": "stream",
     "text": [
      "<class 'pandas.core.frame.DataFrame'>\n",
      "RangeIndex: 1839 entries, 0 to 1838\n",
      "Data columns (total 16 columns):\n",
      " #   Column           Non-Null Count  Dtype  \n",
      "---  ------           --------------  -----  \n",
      " 0   Mean_R           1839 non-null   float64\n",
      " 1   Mean_G           1839 non-null   float64\n",
      " 2   Mean_B           1839 non-null   float64\n",
      " 3   Mean_H           1839 non-null   float64\n",
      " 4   Mean_V           1839 non-null   float64\n",
      " 5   Mean_S           1839 non-null   float64\n",
      " 6   Mean_Gray        1839 non-null   float64\n",
      " 7   Standar_Deviasi  1839 non-null   float64\n",
      " 8   Luas             1839 non-null   float64\n",
      " 9   Perimeter        1839 non-null   float64\n",
      " 10  Contrast         1839 non-null   float64\n",
      " 11  Dissimilarity    1839 non-null   float64\n",
      " 12  Homogeneity      1839 non-null   float64\n",
      " 13  Energy           1839 non-null   float64\n",
      " 14  Correlation      1839 non-null   float64\n",
      " 15  Jenis_Kopra      1839 non-null   int64  \n",
      "dtypes: float64(15), int64(1)\n",
      "memory usage: 230.0 KB\n"
     ]
    }
   ],
   "source": [
    "# show metadata\n",
    "dataset.info()"
   ]
  },
  {
   "cell_type": "code",
   "execution_count": 5,
   "metadata": {},
   "outputs": [
    {
     "data": {
      "text/html": [
       "<div>\n",
       "<style scoped>\n",
       "    .dataframe tbody tr th:only-of-type {\n",
       "        vertical-align: middle;\n",
       "    }\n",
       "\n",
       "    .dataframe tbody tr th {\n",
       "        vertical-align: top;\n",
       "    }\n",
       "\n",
       "    .dataframe thead th {\n",
       "        text-align: right;\n",
       "    }\n",
       "</style>\n",
       "<table border=\"1\" class=\"dataframe\">\n",
       "  <thead>\n",
       "    <tr style=\"text-align: right;\">\n",
       "      <th></th>\n",
       "      <th>Mean_R</th>\n",
       "      <th>Mean_G</th>\n",
       "      <th>Mean_B</th>\n",
       "      <th>Mean_H</th>\n",
       "      <th>Mean_V</th>\n",
       "      <th>Mean_S</th>\n",
       "      <th>Mean_Gray</th>\n",
       "      <th>Standar_Deviasi</th>\n",
       "      <th>Luas</th>\n",
       "      <th>Perimeter</th>\n",
       "      <th>Contrast</th>\n",
       "      <th>Dissimilarity</th>\n",
       "      <th>Homogeneity</th>\n",
       "      <th>Energy</th>\n",
       "      <th>Correlation</th>\n",
       "      <th>Jenis_Kopra</th>\n",
       "    </tr>\n",
       "  </thead>\n",
       "  <tbody>\n",
       "    <tr>\n",
       "      <th>0</th>\n",
       "      <td>99.7735</td>\n",
       "      <td>85.2993</td>\n",
       "      <td>72.5793</td>\n",
       "      <td>11.2720</td>\n",
       "      <td>99.7906</td>\n",
       "      <td>51.0244</td>\n",
       "      <td>88.1944</td>\n",
       "      <td>54.5893</td>\n",
       "      <td>7933.5</td>\n",
       "      <td>2053.3048</td>\n",
       "      <td>43.4466</td>\n",
       "      <td>3.3410</td>\n",
       "      <td>0.4820</td>\n",
       "      <td>0.2282</td>\n",
       "      <td>0.9927</td>\n",
       "      <td>1</td>\n",
       "    </tr>\n",
       "    <tr>\n",
       "      <th>1</th>\n",
       "      <td>114.1627</td>\n",
       "      <td>110.4249</td>\n",
       "      <td>91.1458</td>\n",
       "      <td>19.0044</td>\n",
       "      <td>114.8282</td>\n",
       "      <td>36.8718</td>\n",
       "      <td>109.3581</td>\n",
       "      <td>79.9393</td>\n",
       "      <td>33489.0</td>\n",
       "      <td>1334.8469</td>\n",
       "      <td>68.7073</td>\n",
       "      <td>4.1415</td>\n",
       "      <td>0.4737</td>\n",
       "      <td>0.2763</td>\n",
       "      <td>0.9946</td>\n",
       "      <td>1</td>\n",
       "    </tr>\n",
       "    <tr>\n",
       "      <th>2</th>\n",
       "      <td>86.7587</td>\n",
       "      <td>77.0958</td>\n",
       "      <td>58.2202</td>\n",
       "      <td>14.3739</td>\n",
       "      <td>86.7604</td>\n",
       "      <td>58.7899</td>\n",
       "      <td>77.8335</td>\n",
       "      <td>52.0851</td>\n",
       "      <td>1958.5</td>\n",
       "      <td>573.8549</td>\n",
       "      <td>37.7350</td>\n",
       "      <td>2.9174</td>\n",
       "      <td>0.5221</td>\n",
       "      <td>0.2355</td>\n",
       "      <td>0.9930</td>\n",
       "      <td>1</td>\n",
       "    </tr>\n",
       "    <tr>\n",
       "      <th>3</th>\n",
       "      <td>80.3976</td>\n",
       "      <td>71.1794</td>\n",
       "      <td>55.9146</td>\n",
       "      <td>12.9194</td>\n",
       "      <td>80.3995</td>\n",
       "      <td>52.5784</td>\n",
       "      <td>72.2365</td>\n",
       "      <td>52.3093</td>\n",
       "      <td>2908.0</td>\n",
       "      <td>862.9747</td>\n",
       "      <td>34.4723</td>\n",
       "      <td>2.6061</td>\n",
       "      <td>0.5649</td>\n",
       "      <td>0.2639</td>\n",
       "      <td>0.9937</td>\n",
       "      <td>1</td>\n",
       "    </tr>\n",
       "    <tr>\n",
       "      <th>4</th>\n",
       "      <td>98.9635</td>\n",
       "      <td>89.0470</td>\n",
       "      <td>68.0217</td>\n",
       "      <td>14.3642</td>\n",
       "      <td>98.9674</td>\n",
       "      <td>56.0236</td>\n",
       "      <td>89.6345</td>\n",
       "      <td>63.7584</td>\n",
       "      <td>31867.5</td>\n",
       "      <td>706.1392</td>\n",
       "      <td>51.5219</td>\n",
       "      <td>3.0583</td>\n",
       "      <td>0.5406</td>\n",
       "      <td>0.2576</td>\n",
       "      <td>0.9936</td>\n",
       "      <td>1</td>\n",
       "    </tr>\n",
       "    <tr>\n",
       "      <th>...</th>\n",
       "      <td>...</td>\n",
       "      <td>...</td>\n",
       "      <td>...</td>\n",
       "      <td>...</td>\n",
       "      <td>...</td>\n",
       "      <td>...</td>\n",
       "      <td>...</td>\n",
       "      <td>...</td>\n",
       "      <td>...</td>\n",
       "      <td>...</td>\n",
       "      <td>...</td>\n",
       "      <td>...</td>\n",
       "      <td>...</td>\n",
       "      <td>...</td>\n",
       "      <td>...</td>\n",
       "      <td>...</td>\n",
       "    </tr>\n",
       "    <tr>\n",
       "      <th>1834</th>\n",
       "      <td>65.6997</td>\n",
       "      <td>53.8509</td>\n",
       "      <td>38.5199</td>\n",
       "      <td>13.2483</td>\n",
       "      <td>65.7217</td>\n",
       "      <td>78.2459</td>\n",
       "      <td>55.6460</td>\n",
       "      <td>38.1312</td>\n",
       "      <td>274.5</td>\n",
       "      <td>94.8112</td>\n",
       "      <td>55.9696</td>\n",
       "      <td>3.6349</td>\n",
       "      <td>0.4470</td>\n",
       "      <td>0.2087</td>\n",
       "      <td>0.9806</td>\n",
       "      <td>3</td>\n",
       "    </tr>\n",
       "    <tr>\n",
       "      <th>1835</th>\n",
       "      <td>56.1067</td>\n",
       "      <td>52.0908</td>\n",
       "      <td>39.0243</td>\n",
       "      <td>20.3346</td>\n",
       "      <td>57.6599</td>\n",
       "      <td>63.2588</td>\n",
       "      <td>51.8051</td>\n",
       "      <td>35.6666</td>\n",
       "      <td>513.0</td>\n",
       "      <td>153.8234</td>\n",
       "      <td>87.9853</td>\n",
       "      <td>5.1970</td>\n",
       "      <td>0.3650</td>\n",
       "      <td>0.2058</td>\n",
       "      <td>0.9652</td>\n",
       "      <td>3</td>\n",
       "    </tr>\n",
       "    <tr>\n",
       "      <th>1836</th>\n",
       "      <td>57.3916</td>\n",
       "      <td>46.5022</td>\n",
       "      <td>29.4403</td>\n",
       "      <td>12.4246</td>\n",
       "      <td>57.3923</td>\n",
       "      <td>83.2977</td>\n",
       "      <td>47.8252</td>\n",
       "      <td>37.2503</td>\n",
       "      <td>150.0</td>\n",
       "      <td>172.8528</td>\n",
       "      <td>76.8202</td>\n",
       "      <td>4.5265</td>\n",
       "      <td>0.4297</td>\n",
       "      <td>0.2698</td>\n",
       "      <td>0.9722</td>\n",
       "      <td>3</td>\n",
       "    </tr>\n",
       "    <tr>\n",
       "      <th>1837</th>\n",
       "      <td>66.6046</td>\n",
       "      <td>58.9452</td>\n",
       "      <td>41.0883</td>\n",
       "      <td>14.9776</td>\n",
       "      <td>66.6068</td>\n",
       "      <td>68.8092</td>\n",
       "      <td>59.2135</td>\n",
       "      <td>41.0479</td>\n",
       "      <td>342.0</td>\n",
       "      <td>171.0538</td>\n",
       "      <td>68.5011</td>\n",
       "      <td>4.4026</td>\n",
       "      <td>0.4286</td>\n",
       "      <td>0.2436</td>\n",
       "      <td>0.9796</td>\n",
       "      <td>3</td>\n",
       "    </tr>\n",
       "    <tr>\n",
       "      <th>1838</th>\n",
       "      <td>58.9383</td>\n",
       "      <td>49.4705</td>\n",
       "      <td>30.5259</td>\n",
       "      <td>13.4383</td>\n",
       "      <td>58.9430</td>\n",
       "      <td>82.2837</td>\n",
       "      <td>50.1406</td>\n",
       "      <td>39.0052</td>\n",
       "      <td>26.0</td>\n",
       "      <td>75.1127</td>\n",
       "      <td>56.8669</td>\n",
       "      <td>4.1480</td>\n",
       "      <td>0.4488</td>\n",
       "      <td>0.2712</td>\n",
       "      <td>0.9813</td>\n",
       "      <td>3</td>\n",
       "    </tr>\n",
       "  </tbody>\n",
       "</table>\n",
       "<p>1839 rows × 16 columns</p>\n",
       "</div>"
      ],
      "text/plain": [
       "        Mean_R    Mean_G   Mean_B   Mean_H    Mean_V   Mean_S  Mean_Gray  \\\n",
       "0      99.7735   85.2993  72.5793  11.2720   99.7906  51.0244    88.1944   \n",
       "1     114.1627  110.4249  91.1458  19.0044  114.8282  36.8718   109.3581   \n",
       "2      86.7587   77.0958  58.2202  14.3739   86.7604  58.7899    77.8335   \n",
       "3      80.3976   71.1794  55.9146  12.9194   80.3995  52.5784    72.2365   \n",
       "4      98.9635   89.0470  68.0217  14.3642   98.9674  56.0236    89.6345   \n",
       "...        ...       ...      ...      ...       ...      ...        ...   \n",
       "1834   65.6997   53.8509  38.5199  13.2483   65.7217  78.2459    55.6460   \n",
       "1835   56.1067   52.0908  39.0243  20.3346   57.6599  63.2588    51.8051   \n",
       "1836   57.3916   46.5022  29.4403  12.4246   57.3923  83.2977    47.8252   \n",
       "1837   66.6046   58.9452  41.0883  14.9776   66.6068  68.8092    59.2135   \n",
       "1838   58.9383   49.4705  30.5259  13.4383   58.9430  82.2837    50.1406   \n",
       "\n",
       "      Standar_Deviasi     Luas  Perimeter  Contrast  Dissimilarity  \\\n",
       "0             54.5893   7933.5  2053.3048   43.4466         3.3410   \n",
       "1             79.9393  33489.0  1334.8469   68.7073         4.1415   \n",
       "2             52.0851   1958.5   573.8549   37.7350         2.9174   \n",
       "3             52.3093   2908.0   862.9747   34.4723         2.6061   \n",
       "4             63.7584  31867.5   706.1392   51.5219         3.0583   \n",
       "...               ...      ...        ...       ...            ...   \n",
       "1834          38.1312    274.5    94.8112   55.9696         3.6349   \n",
       "1835          35.6666    513.0   153.8234   87.9853         5.1970   \n",
       "1836          37.2503    150.0   172.8528   76.8202         4.5265   \n",
       "1837          41.0479    342.0   171.0538   68.5011         4.4026   \n",
       "1838          39.0052     26.0    75.1127   56.8669         4.1480   \n",
       "\n",
       "      Homogeneity  Energy  Correlation  Jenis_Kopra  \n",
       "0          0.4820  0.2282       0.9927            1  \n",
       "1          0.4737  0.2763       0.9946            1  \n",
       "2          0.5221  0.2355       0.9930            1  \n",
       "3          0.5649  0.2639       0.9937            1  \n",
       "4          0.5406  0.2576       0.9936            1  \n",
       "...           ...     ...          ...          ...  \n",
       "1834       0.4470  0.2087       0.9806            3  \n",
       "1835       0.3650  0.2058       0.9652            3  \n",
       "1836       0.4297  0.2698       0.9722            3  \n",
       "1837       0.4286  0.2436       0.9796            3  \n",
       "1838       0.4488  0.2712       0.9813            3  \n",
       "\n",
       "[1839 rows x 16 columns]"
      ]
     },
     "execution_count": 5,
     "metadata": {},
     "output_type": "execute_result"
    }
   ],
   "source": [
    "# show dataset\n",
    "np.round(dataset, 4)"
   ]
  },
  {
   "cell_type": "markdown",
   "metadata": {},
   "source": [
    "### 3. Data Preprocessing"
   ]
  },
  {
   "cell_type": "markdown",
   "metadata": {},
   "source": [
    "- set feature and label"
   ]
  },
  {
   "cell_type": "code",
   "execution_count": 6,
   "metadata": {},
   "outputs": [],
   "source": [
    "# set experiment color\n",
    "if(experiments == 1):\n",
    "  exp = \"Experiments 1\"\n",
    "  x = dataset.iloc[:,0:8].values # color\n",
    "  np.array(np.round(x,4))\n",
    "\n",
    "# set experiment shape\n",
    "elif(experiments == 2):\n",
    "  exp = \"Experiments 2\"\n",
    "  x = dataset.iloc[:,8:10].values # shape\n",
    "  np.array(np.round(x,4))\n",
    "\n",
    "# set experiment texture\n",
    "elif(experiments == 3):\n",
    "  exp = \"Experiments 3\"\n",
    "  x = dataset.iloc[:,10:15].values # texture\n",
    "  np.array(np.round(x,4))\n",
    "  \n",
    "# set experiment color and shape\n",
    "elif(experiments == 4):\n",
    "  exp = \"Experiments 4\"\n",
    "  x = dataset.iloc[:,0:10].values # color and shape\n",
    "  np.array(np.round(x,4))\n",
    "  \n",
    "# set experiment color and texture\n",
    "elif(experiments == 5):\n",
    "  exp = \"Experiments 5\"\n",
    "  x = dataset.iloc[:,[0,1,2,3,4,5,6,7,10,11,12,13,14]].values # shape and texture\n",
    "  np.array(np.round(x,4))\n",
    "  \n",
    "# set experiment shape and texture\n",
    "elif(experiments == 6):\n",
    "  exp = \"Experiments 6\"\n",
    "  x = dataset.iloc[:,8:15].values # shape and texture\n",
    "  np.array(np.round(x,4))\n",
    "  \n",
    "# set experiment color, shape, texture\n",
    "else:\n",
    "  exp = \"Experiments 7\"\n",
    "  x = dataset.iloc[:,0:15].values\n",
    "  np.array(np.round(x,4))"
   ]
  },
  {
   "cell_type": "code",
   "execution_count": 7,
   "metadata": {},
   "outputs": [
    {
     "data": {
      "text/plain": [
       "array([1, 1, 1, ..., 3, 3, 3], dtype=int64)"
      ]
     },
     "execution_count": 7,
     "metadata": {},
     "output_type": "execute_result"
    }
   ],
   "source": [
    "# set label, dependent variable\n",
    "y = dataset.iloc[:,-1]\n",
    "np.array(np.round(y,4))"
   ]
  },
  {
   "cell_type": "markdown",
   "metadata": {},
   "source": [
    "- Scaling dataset"
   ]
  },
  {
   "cell_type": "code",
   "execution_count": 8,
   "metadata": {},
   "outputs": [],
   "source": [
    "# normalize features\n",
    "scaler = MinMaxScaler(feature_range=(0, 1))\n",
    "scaled = scaler.fit_transform(x)"
   ]
  },
  {
   "cell_type": "code",
   "execution_count": 9,
   "metadata": {},
   "outputs": [
    {
     "data": {
      "text/plain": [
       "array([[0.6636, 0.6414, 0.6765, ..., 0.5084, 0.1479, 0.9514],\n",
       "       [0.8016, 0.8869, 0.8975, ..., 0.484 , 0.2742, 0.9767],\n",
       "       [0.5388, 0.5613, 0.5056, ..., 0.625 , 0.1671, 0.9557],\n",
       "       ...,\n",
       "       [0.2573, 0.2623, 0.1631, ..., 0.3562, 0.2571, 0.6834],\n",
       "       [0.3456, 0.3839, 0.3017, ..., 0.3528, 0.1884, 0.7798],\n",
       "       [0.2721, 0.2913, 0.176 , ..., 0.4117, 0.2606, 0.8017]])"
      ]
     },
     "execution_count": 9,
     "metadata": {},
     "output_type": "execute_result"
    }
   ],
   "source": [
    "np.round(scaled, 4)"
   ]
  },
  {
   "cell_type": "markdown",
   "metadata": {},
   "source": [
    "- Data Splitting"
   ]
  },
  {
   "cell_type": "code",
   "execution_count": 10,
   "metadata": {},
   "outputs": [],
   "source": [
    "# split validation\n",
    "if splitting == 80:\n",
    "  trainX, testX, trainY, testY = train_test_split(scaled, y, train_size=0.8, test_size=0.2, random_state=0, shuffle=True)\n",
    "\n",
    "# split validation\n",
    "if splitting == 90:\n",
    "  trainX, testX, trainY, testY = train_test_split(scaled, y, train_size=0.9, test_size=0.1, random_state=0, shuffle=True)"
   ]
  },
  {
   "cell_type": "code",
   "execution_count": 11,
   "metadata": {},
   "outputs": [],
   "source": [
    "# # reshape labels\n",
    "# trainY = trainY.reshape(-1)\n",
    "# testY = testY.reshape(-1)"
   ]
  },
  {
   "cell_type": "code",
   "execution_count": 12,
   "metadata": {},
   "outputs": [
    {
     "name": "stdout",
     "output_type": "stream",
     "text": [
      "(1655, 15) (1655,)\n"
     ]
    }
   ],
   "source": [
    "# show dimension of data train\n",
    "print(trainX.shape, trainY.shape)"
   ]
  },
  {
   "cell_type": "code",
   "execution_count": 13,
   "metadata": {},
   "outputs": [
    {
     "name": "stdout",
     "output_type": "stream",
     "text": [
      "(184, 15) (184,)\n"
     ]
    }
   ],
   "source": [
    "# show dimension of data test\n",
    "print(testX.shape, testY.shape)"
   ]
  },
  {
   "cell_type": "markdown",
   "metadata": {},
   "source": [
    "### 4. Modeling Supervised Learning"
   ]
  },
  {
   "cell_type": "code",
   "execution_count": 14,
   "metadata": {},
   "outputs": [],
   "source": [
    "# supervised learning algorithm\n",
    "result_KNN = KNeighborsClassifier(n_neighbors=3).fit(trainX, trainY).predict(testX)\n",
    "result_SVC = SVC(kernel='linear').fit(trainX, trainY).predict(testX)\n",
    "result_C45 = DecisionTreeClassifier(criterion=\"gini\", random_state=0).fit(trainX, trainY).predict(testX)\n",
    "result_GNB = GaussianNB().fit(trainX, trainY).predict(testX)\n",
    "result_LR = LogisticRegression(max_iter=1000).fit(trainX, trainY).predict(testX)"
   ]
  },
  {
   "cell_type": "code",
   "execution_count": 15,
   "metadata": {},
   "outputs": [
    {
     "data": {
      "text/plain": [
       "array([[2, 2, 1, 2, 2, 2],\n",
       "       [1, 1, 1, 1, 1, 1],\n",
       "       [3, 3, 3, 3, 3, 3],\n",
       "       ...,\n",
       "       [2, 2, 2, 2, 2, 2],\n",
       "       [2, 2, 2, 2, 2, 2],\n",
       "       [1, 2, 2, 2, 2, 2]], dtype=int64)"
      ]
     },
     "execution_count": 15,
     "metadata": {},
     "output_type": "execute_result"
    }
   ],
   "source": [
    "# join all result with labels\n",
    "data = {\n",
    "  \"KNN\" : result_KNN,\n",
    "  \"SVC\" : result_SVC,\n",
    "  \"C45\" : result_C45,\n",
    "  \"GNB\" : result_GNB,\n",
    "  \"LR\" : result_LR,\n",
    "  \"Labels\": testY,\n",
    "}\n",
    "\n",
    "# convert result to dataframe\n",
    "result = pd.DataFrame(data)\n",
    "\n",
    "# show dataframe\n",
    "np.array(result)"
   ]
  },
  {
   "cell_type": "markdown",
   "metadata": {},
   "source": [
    "### 5. Model Evaluation"
   ]
  },
  {
   "cell_type": "markdown",
   "metadata": {},
   "source": [
    "- Accuracy, Precision and Recall"
   ]
  },
  {
   "cell_type": "code",
   "execution_count": 16,
   "metadata": {},
   "outputs": [
    {
     "name": "stdout",
     "output_type": "stream",
     "text": [
      "Supervised Learning: Experiments 7 and train test 90%\n",
      "\n",
      "KNN\n",
      "0.842\n",
      "0.841\n",
      "0.837\n",
      "0.837\n",
      "------------------------- \n",
      "\n",
      "SVC\n",
      "0.815\n",
      "0.808\n",
      "0.808\n",
      "0.808\n",
      "------------------------- \n",
      "\n",
      "C45\n",
      "0.815\n",
      "0.81\n",
      "0.81\n",
      "0.81\n",
      "------------------------- \n",
      "\n",
      "GNB\n",
      "0.799\n",
      "0.795\n",
      "0.79\n",
      "0.791\n",
      "------------------------- \n",
      "\n",
      "LR\n",
      "0.821\n",
      "0.813\n",
      "0.814\n",
      "0.813\n",
      "------------------------- \n",
      "\n"
     ]
    }
   ],
   "source": [
    "print(\"Supervised Learning: \"+str(exp)+\" and train test \"+str(splitting)+\"%\")\n",
    "print(\"\")\n",
    "for i in range(len(result.columns)-1):\n",
    "    print(result.columns[i])\n",
    "    print(np.round(accuracy_score(result[\"Labels\"], result.iloc[:,i:i+1]), 3))\n",
    "    print(np.round(precision_score(result[\"Labels\"], result.iloc[:,i:i+1], average=\"macro\"), 3))\n",
    "    print(np.round(recall_score(result[\"Labels\"], result.iloc[:,i:i+1], average=\"macro\"), 3))\n",
    "    print(np.round(f1_score(result[\"Labels\"], result.iloc[:,i:i+1], average=\"macro\"), 3))\n",
    "    print(\"------------------------- \\n\")"
   ]
  },
  {
   "cell_type": "markdown",
   "metadata": {},
   "source": [
    "- confusion matrix"
   ]
  },
  {
   "cell_type": "code",
   "execution_count": 17,
   "metadata": {},
   "outputs": [],
   "source": [
    "def heatmap_corr_v2(algorithms, df):\n",
    "  # plotting heatmap corr\n",
    "  fig = px.imshow(\n",
    "    img=df,\n",
    "    x = ['1', '2', '3'],\n",
    "    y = ['1', '2', '3'],\n",
    "    color_continuous_scale = 'RdYlGn_r',\n",
    "    aspect=True,\n",
    "    text_auto=True,\n",
    "  )\n",
    "  \n",
    "  fig.update_traces(\n",
    "    xgap=3, ygap=3,\n",
    "    textfont={\"size\":16}, \n",
    "  )\n",
    "\n",
    "  # customize layout\n",
    "  fig.update_layout(\n",
    "    width=450, height=360,\n",
    "    title=algorithms,\n",
    "  )\n",
    "\n",
    "  # # show heatmap corr\n",
    "  # fig.show()\n",
    "\n",
    "  return fig"
   ]
  },
  {
   "cell_type": "code",
   "execution_count": 18,
   "metadata": {},
   "outputs": [],
   "source": [
    "def heatmap_corr(data):\n",
    "  # Data sampel\n",
    "  x = [\"1\", \"2\", \"3\"]\n",
    "  y = [\"1\", \"2\", \"3\"]\n",
    "  data = np.array(data)\n",
    "\n",
    "  # create figure\n",
    "  fig, ax = plt.subplots(figsize=(3,3))\n",
    "\n",
    "  # create heatmap\n",
    "  plt.imshow(data, cmap='RdYlGn_r')\n",
    "\n",
    "  # Show all ticks and label them with the respective list entries\n",
    "  ax.set_xticks(np.arange(len(x)), labels=x)\n",
    "  ax.set_yticks(np.arange(len(y)), labels=y)\n",
    "\n",
    "  # Loop over data dimensions and create text annotations.\n",
    "  for i in range(len(x)):\n",
    "    for j in range(len(y)):\n",
    "      text = ax.text(j, i, data[i, j], ha=\"center\", va=\"center\", fontsize=12)\n",
    "\n",
    "  # show heatmap\n",
    "  return plt.show()"
   ]
  },
  {
   "cell_type": "code",
   "execution_count": 19,
   "metadata": {},
   "outputs": [
    {
     "data": {
      "image/png": "[encoded data removed]",
      "text/plain": [
       "<Figure size 300x300 with 1 Axes>"
      ]
     },
     "metadata": {},
     "output_type": "display_data"
    }
   ],
   "source": [
    "heatmap_corr(pd.DataFrame(confusion_matrix(testY, result_KNN)))"
   ]
  },
  {
   "cell_type": "code",
   "execution_count": 20,
   "metadata": {},
   "outputs": [
    {
     "data": {
      "image/png": "[encoded data removed]",
      "text/plain": [
       "<Figure size 300x300 with 1 Axes>"
      ]
     },
     "metadata": {},
     "output_type": "display_data"
    }
   ],
   "source": [
    "heatmap_corr(pd.DataFrame(confusion_matrix(testY, result_SVC)))"
   ]
  },
  {
   "cell_type": "code",
   "execution_count": 21,
   "metadata": {},
   "outputs": [
    {
     "data": {
      "image/png": "[encoded data removed]",
      "text/plain": [
       "<Figure size 300x300 with 1 Axes>"
      ]
     },
     "metadata": {},
     "output_type": "display_data"
    }
   ],
   "source": [
    "heatmap_corr(pd.DataFrame(confusion_matrix(testY, result_C45)))"
   ]
  },
  {
   "cell_type": "code",
   "execution_count": 22,
   "metadata": {},
   "outputs": [
    {
     "data": {
      "image/png": "[encoded data removed]",
      "text/plain": [
       "<Figure size 300x300 with 1 Axes>"
      ]
     },
     "metadata": {},
     "output_type": "display_data"
    }
   ],
   "source": [
    "heatmap_corr(pd.DataFrame(confusion_matrix(testY, result_GNB)))"
   ]
  },
  {
   "cell_type": "code",
   "execution_count": 23,
   "metadata": {},
   "outputs": [
    {
     "data": {
      "image/png": "[encoded data removed]",
      "text/plain": [
       "<Figure size 300x300 with 1 Axes>"
      ]
     },
     "metadata": {},
     "output_type": "display_data"
    }
   ],
   "source": [
    "heatmap_corr(pd.DataFrame(confusion_matrix(testY, result_LR)))"
   ]
  },
  {
   "cell_type": "code",
   "execution_count": null,
   "metadata": {},
   "outputs": [],
   "source": []
  }
 ],
 "metadata": {
  "kernelspec": {
   "display_name": "base",
   "language": "python",
   "name": "python3"
  },
  "language_info": {
   "codemirror_mode": {
    "name": "ipython",
    "version": 3
   },
   "file_extension": ".py",
   "mimetype": "text/x-python",
   "name": "python",
   "nbconvert_exporter": "python",
   "pygments_lexer": "ipython3",
   "version": "3.11.9"
  }
 },
 "nbformat": 4,
 "nbformat_minor": 2
}
